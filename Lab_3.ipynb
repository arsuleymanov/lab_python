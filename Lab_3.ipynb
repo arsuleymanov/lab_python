{
  "cells": [
    {
      "cell_type": "markdown",
      "metadata": {
        "id": "lhLob9zN-iVt"
      },
      "source": [
        "#ЛР №3\n",
        "\n",
        "Функции. Локальные и глобальные переменные. Передача аргументов. Строки. Списки. Кортежи. Множества."
      ]
    },
    {
      "cell_type": "markdown",
      "metadata": {
        "id": "_ot7J5B7-lqU"
      },
      "source": [
        "###Строки"
      ]
    },
    {
      "cell_type": "markdown",
      "metadata": {
        "id": "sR3UwvJQ9Uvs"
      },
      "source": [
        "**Задача 1**\n",
        "\n",
        "Дана строка, содержащая русскоязычный текст. Найти количество слов, начинающихся с буквы \"е\"."
      ]
    },
    {
      "cell_type": "code",
      "source": [
        "s = str(input())\n",
        "listString = s.split()\n",
        "count = 0\n",
        "for i in range(len(listString)):\n",
        "  if listString[i][0] == 'е' or listString[i][0] == 'Е':\n",
        "    count += 1\n",
        "print(count)"
      ],
      "metadata": {
        "colab": {
          "base_uri": "https://localhost:8080/"
        },
        "id": "6ROyeFzo1U2L",
        "outputId": "f3d729e9-4698-4761-a708-80e48d11709f"
      },
      "execution_count": null,
      "outputs": [
        {
          "output_type": "stream",
          "name": "stdout",
          "text": [
            "oehrjg ljfn\n",
            "0\n"
          ]
        }
      ]
    },
    {
      "cell_type": "markdown",
      "metadata": {
        "id": "eWHksfRo91M7"
      },
      "source": [
        "**Задача 2**\n",
        "\n",
        "Дана строка, заканчивающаяся точкой. Подсчитать, сколько слов в строке.\n",
        "\n"
      ]
    },
    {
      "cell_type": "code",
      "source": [
        "s = str(input())\n",
        "listString = s.split()\n",
        "print(len(listString))"
      ],
      "metadata": {
        "colab": {
          "base_uri": "https://localhost:8080/"
        },
        "id": "SO3NNWo73VnO",
        "outputId": "49cea093-754e-464b-ae5e-1a977d7682a1"
      },
      "execution_count": null,
      "outputs": [
        {
          "output_type": "stream",
          "name": "stdout",
          "text": [
            "jh kjlk .\n",
            "3\n"
          ]
        }
      ]
    },
    {
      "cell_type": "markdown",
      "metadata": {
        "id": "Ce8Ro3I5984e"
      },
      "source": [
        "**Задача 3**\n",
        "\n",
        "В строке заменить все двоеточия (:) знаком процента (%). Подсчитать\n",
        "количество замен."
      ]
    },
    {
      "cell_type": "code",
      "source": [
        "s = str(input())\n",
        "count = 0\n",
        "for s1 in s:\n",
        "  if s1 == ':':\n",
        "    count += 1\n",
        "print(s.replace(':', '%'))\n",
        "print('Количество замен:', count)"
      ],
      "metadata": {
        "colab": {
          "base_uri": "https://localhost:8080/"
        },
        "id": "SriJv6FR3vxa",
        "outputId": "9c5e7a80-a7a0-477f-d50c-112dc00b2c77"
      },
      "execution_count": null,
      "outputs": [
        {
          "output_type": "stream",
          "name": "stdout",
          "text": [
            "hsfvh: svb % dij:::\n",
            "hsfvh% svb % dij%%%\n",
            "Количество замен: 4\n"
          ]
        }
      ]
    },
    {
      "cell_type": "markdown",
      "metadata": {
        "id": "hOMAXar6-fO1"
      },
      "source": [
        "###Списки"
      ]
    },
    {
      "cell_type": "markdown",
      "metadata": {
        "id": "CABMlL55-IQW"
      },
      "source": [
        "**Задача 4**\n",
        "\n",
        "1. Дан одномерный массив из 10 целых чисел. Найти максимальный элемент и\n",
        "сравнить с ним остальные элементы. Вывести количество меньших\n",
        "максимального и больших максимального элемента.\n",
        "2. Одномерный массив из 10-и целых чисел заполнить с клавиатуры,\n",
        "определить сумму тех чисел, которые >5."
      ]
    },
    {
      "cell_type": "code",
      "source": [
        "a = list(map(int, input().split()))\n",
        "count1 = 0\n",
        "count2 = 0\n",
        "m = sum(a)/len(a)\n",
        "for i in range(len(a)):\n",
        "  if a[i] > m:\n",
        "    count1 += 1\n",
        "  if a[i] < m:\n",
        "    count2 += 1\n",
        "print('Среднее арифметическое:', m)\n",
        "print('Количество элементов меньших среднего арифмтеического:', count2)\n",
        "print('Количество элементов больших среднего арифмтеического:', count1)"
      ],
      "metadata": {
        "colab": {
          "base_uri": "https://localhost:8080/"
        },
        "id": "FTA8eqgc5K4I",
        "outputId": "24439f6d-df64-4450-c673-8103bcb4755a"
      },
      "execution_count": null,
      "outputs": [
        {
          "output_type": "stream",
          "name": "stdout",
          "text": [
            "1 2 3 4 100\n",
            "Среднее арифметическое: 22.0\n",
            "Количество элементов меньших среднего арифмтеического: 4\n",
            "Количество элементов больших среднего арифмтеического: 1\n"
          ]
        }
      ]
    },
    {
      "cell_type": "code",
      "source": [
        "a = list(map(int, input().split()))\n",
        "s = 0\n",
        "for i in range(len(a)):\n",
        "  if a[i] > 5:\n",
        "    s += a[i]\n",
        "print(s)"
      ],
      "metadata": {
        "colab": {
          "base_uri": "https://localhost:8080/"
        },
        "id": "afPQj02i5Vtm",
        "outputId": "329e160b-e5f9-4288-978d-dd5fb7aead02"
      },
      "execution_count": null,
      "outputs": [
        {
          "output_type": "stream",
          "name": "stdout",
          "text": [
            "1 2 3\n",
            "0\n"
          ]
        }
      ]
    },
    {
      "cell_type": "markdown",
      "metadata": {
        "id": "hLIYEyrt-KdW"
      },
      "source": [
        "**Задача 5**\n",
        "\n",
        "1. Дан одномерный массив, состоящий из N вещественных элементов. Ввести\n",
        "массив с клавиатуры. Найти и вывести минимальный по модулю элемент.\n",
        "Вывести массив на экран в обратном порядке.\n",
        "2. Даны массивы A и B одинакового размера 10. Вывести исходные массивы.\n",
        "Поменять местами их содержимое и вывести в начале элементы\n",
        "преобразованного массива A, а затем — элементы преобразованного массива\n",
        "B."
      ]
    },
    {
      "cell_type": "code",
      "source": [
        "N = int(input())\n",
        "a = []\n",
        "for i in range(N):\n",
        "  a.append(int(input()))\n",
        "print(min(a, key = abs))"
      ],
      "metadata": {
        "colab": {
          "base_uri": "https://localhost:8080/"
        },
        "id": "t2BYQMuy944c",
        "outputId": "d3e077c1-9978-4217-b736-931edd89df01"
      },
      "execution_count": null,
      "outputs": [
        {
          "output_type": "stream",
          "name": "stdout",
          "text": [
            "5\n",
            "-2\n",
            "-1\n",
            "0\n",
            "1\n",
            "2\n",
            "0\n"
          ]
        }
      ]
    },
    {
      "cell_type": "code",
      "source": [
        "A = [1, 2, 3, 4, 5, 6, 7, 8, 9, 10]\n",
        "B = [11, 12, 13, 14, 15, 16, 17, 18, 19, 20]\n",
        "print(A)\n",
        "print(B)\n",
        "C = A\n",
        "A = B\n",
        "B = C\n",
        "print(A)\n",
        "print(B)"
      ],
      "metadata": {
        "colab": {
          "base_uri": "https://localhost:8080/"
        },
        "id": "NUqZJfx594uU",
        "outputId": "f01703d3-df1d-4753-8a40-83bfde8dbfae"
      },
      "execution_count": null,
      "outputs": [
        {
          "output_type": "stream",
          "name": "stdout",
          "text": [
            "[1, 2, 3, 4, 5, 6, 7, 8, 9, 10]\n",
            "[11, 12, 13, 14, 15, 16, 17, 18, 19, 20]\n",
            "[11, 12, 13, 14, 15, 16, 17, 18, 19, 20]\n",
            "[1, 2, 3, 4, 5, 6, 7, 8, 9, 10]\n"
          ]
        }
      ]
    },
    {
      "cell_type": "markdown",
      "metadata": {
        "id": "Lz0Qs2Eh-oJj"
      },
      "source": [
        "###Функции"
      ]
    },
    {
      "cell_type": "markdown",
      "metadata": {
        "id": "sY1c1WF--K5N"
      },
      "source": [
        "**Задача 6**\n",
        "\n",
        "1. Составить программу для вычисления площади разных геометрических\n",
        "фигур.\n",
        "2. Даны 3 различных массива целых чисел (размер каждого не превышает 15). В\n",
        "каждом массиве найти сумму элементов и среднеарифметическое значение."
      ]
    },
    {
      "cell_type": "code",
      "source": [
        "print('Если Вам нужно вычислить площадь квадрата, введите \"1\". Если Вам нужно вычислить площадь прямоугольника, введите \"2\".')\n",
        "n = int(input())\n",
        "if n == 1:\n",
        "  print('Введите сторону квадрата:')\n",
        "  a = float(input())\n",
        "  print('Площадь квадрата равна', a**2)\n",
        "else:\n",
        "  print('Введите длину прямоугольника:')\n",
        "  a = float(input())\n",
        "  print('Введите ширину прямоугольника:')\n",
        "  b = float(input())\n",
        "  print('Площадь прямоугольника равна', a*b)"
      ],
      "metadata": {
        "colab": {
          "base_uri": "https://localhost:8080/"
        },
        "id": "FbpQs8HMAPLY",
        "outputId": "fd176e57-69c7-4083-e294-a3f316b64ce3"
      },
      "execution_count": null,
      "outputs": [
        {
          "output_type": "stream",
          "name": "stdout",
          "text": [
            "Программа расчёта площади фигур привествует Вас!\n",
            "Если Вам нужно вычислить площадь квадрата, введите \"1\". Если Вам нужно вычислить площадь прямоугольника, введите \"2\". Если Вам нужно вычислить площадь круга, введите \"3\".\n",
            "2\n",
            "Введите длину прямоугольника:\n",
            "1\n",
            "Введите ширину прямоугольника:\n",
            "3\n",
            "Площадь прямоугольника равна 3.0\n",
            "Спасибо за выбор нашей программы!\n"
          ]
        }
      ]
    },
    {
      "cell_type": "code",
      "source": [
        "A = [1, 2, 3, 4, 5, 6, 7, 8, 9, 10]\n",
        "B = [-2, -1, 0, 1, 2]\n",
        "C = [13, 94, 88, 82, 13, 8]\n",
        "print(sum(A), sum(A)/len(A))\n",
        "print(sum(B), sum(B)/len(B))\n",
        "print(sum(C), sum(C)/len(C))"
      ],
      "metadata": {
        "colab": {
          "base_uri": "https://localhost:8080/"
        },
        "id": "KIU5VQ0vBKhG",
        "outputId": "35353b09-731c-4dd4-d21a-c7f6643f2c45"
      },
      "execution_count": null,
      "outputs": [
        {
          "output_type": "stream",
          "name": "stdout",
          "text": [
            "55 5.5\n",
            "0 0.0\n",
            "298 49.666666666666664\n"
          ]
        }
      ]
    },
    {
      "cell_type": "markdown",
      "metadata": {
        "id": "Je2eui4dxQSM"
      },
      "source": [
        "**Задача 7**\n",
        "\n",
        "Напишите функцию `square()`, которая принимает на вход число и:\n",
        "\n",
        "* возвращает его квадрат;\n",
        "* выводит на экран сообщение вида \"Квадрат числа равен: n\" и ничего не возвращает;\n",
        "* выводит на экран сообщение вида \"Квадрат числа равен: n\" и возвращает квадрат числа;"
      ]
    },
    {
      "cell_type": "code",
      "source": [
        "def square(n):\n",
        "  return n**2\n",
        "n = int(input())\n",
        "print(square(n))"
      ],
      "metadata": {
        "colab": {
          "base_uri": "https://localhost:8080/"
        },
        "id": "iyyHlR5OCTeS",
        "outputId": "87afdc32-bfa8-4b8e-aa95-a9f6af5f09b8"
      },
      "execution_count": null,
      "outputs": [
        {
          "output_type": "stream",
          "name": "stdout",
          "text": [
            "12\n",
            "144\n"
          ]
        }
      ]
    },
    {
      "cell_type": "code",
      "source": [
        "def square(n):\n",
        "  print('Квадрат числа', n, 'равен', n**2)\n",
        "n = int(input())\n",
        "square(n)"
      ],
      "metadata": {
        "colab": {
          "base_uri": "https://localhost:8080/"
        },
        "id": "dG4Qu9AFCTbh",
        "outputId": "ca684bdb-8e56-40af-8a52-fdb04d0a3005"
      },
      "execution_count": null,
      "outputs": [
        {
          "output_type": "stream",
          "name": "stdout",
          "text": [
            "4\n",
            "Квадрат числа 4 равен 16\n"
          ]
        }
      ]
    },
    {
      "cell_type": "code",
      "source": [
        "def square(n):\n",
        "  print('Квадрат числа', n, 'равен', n**2)\n",
        "  return n**2\n",
        "n = int(input())\n",
        "square(n)"
      ],
      "metadata": {
        "colab": {
          "base_uri": "https://localhost:8080/"
        },
        "id": "FDlBxFgZCTZB",
        "outputId": "be9a7fb3-90ff-4f97-e96a-bdbfb667a149"
      },
      "execution_count": null,
      "outputs": [
        {
          "output_type": "stream",
          "name": "stdout",
          "text": [
            "8\n",
            "Квадрат числа 8 равен 64\n"
          ]
        },
        {
          "output_type": "execute_result",
          "data": {
            "text/plain": [
              "64"
            ]
          },
          "metadata": {},
          "execution_count": 52
        }
      ]
    },
    {
      "cell_type": "markdown",
      "metadata": {
        "id": "B58-9v4_xQS0"
      },
      "source": [
        "**Задача 8**\n",
        "\n",
        "Напишите функцию `nums()`, которая принимает на вход целое число, а возвращает список из двух элементов: целое число, предшествующее принятому на вход, и число, следующее за ним.\n",
        "\n",
        "**Пример:**\n",
        "\n",
        "*Входные данные:*\n",
        "\n",
        "    7\n",
        "\n",
        "*Выходные данные:*\n",
        "\n",
        "    [6, 8]"
      ]
    },
    {
      "cell_type": "code",
      "source": [
        "def nums(n):\n",
        "  a = [n-1, n+1]\n",
        "  return a\n",
        "n = int(input())\n",
        "print(nums(n))"
      ],
      "metadata": {
        "colab": {
          "base_uri": "https://localhost:8080/"
        },
        "id": "aJJjht-kEDK3",
        "outputId": "2d0a15e9-0382-41b6-8185-f998613f80b8"
      },
      "execution_count": null,
      "outputs": [
        {
          "output_type": "stream",
          "name": "stdout",
          "text": [
            "7\n",
            "[6, 8]\n"
          ]
        }
      ]
    },
    {
      "cell_type": "markdown",
      "metadata": {
        "id": "6NccBpE-xQS0"
      },
      "source": [
        "**Задача 9**\n",
        "\n",
        "Напишите функцию `str_lower()`, которая принимает на вход строку (набор слов через пробел), а возвращает список ее элементов в нижнем регистре.\n",
        "\n",
        "**Пример:**\n",
        "\n",
        "*Входные данные:*\n",
        "\n",
        "    \"В лесу родилась ёлочка В лесу она росла\"\n",
        "\n",
        "*Выходные данные:*\n",
        "\n",
        "    ['в', 'лесу', 'родилась', 'ёлочка', 'в', 'лесу', 'она', 'росла']"
      ]
    },
    {
      "cell_type": "code",
      "source": [
        "def str_lower(s):\n",
        "  return s.lower().split()\n",
        "s = str(input())\n",
        "print(str_lower(s))"
      ],
      "metadata": {
        "colab": {
          "base_uri": "https://localhost:8080/"
        },
        "id": "WgBtRCbNEa1y",
        "outputId": "898e9647-47f6-4248-c758-520b60054698"
      },
      "execution_count": null,
      "outputs": [
        {
          "output_type": "stream",
          "name": "stdout",
          "text": [
            "def str_lower(s):   return s.lower().split() s = str(input()) print(str_lower(s))\n",
            "['def', 'str_lower(s):', 'return', 's.lower().split()', 's', '=', 'str(input())', 'print(str_lower(s))']\n"
          ]
        }
      ]
    },
    {
      "cell_type": "markdown",
      "metadata": {
        "id": "WB3hG0lcxQS1"
      },
      "source": [
        "**Задача 10**\n",
        "\n",
        "Напишите функцию `my_log()`, которая принимает на вход список чисел, и возвращает список их натуральных логарифмов. Если число меньше или равно 0, на его месте в возвращаемом списке должно быть None.\n",
        "\n",
        "**Пример:**\n",
        "\n",
        "*Входные данные:*\n",
        "\n",
        "    [1, 3, 2.5, -1, 9, 0, 2.71]\n",
        "\n",
        "*Выходные данные:*\n",
        "\n",
        "    [0.0,\n",
        "     1.0986122886681098,\n",
        "     0.9162907318741551,\n",
        "     None,\n",
        "     2.1972245773362196,\n",
        "     None,\n",
        "     0.9969486348916096]"
      ]
    },
    {
      "cell_type": "code",
      "source": [
        "import math\n",
        "\n",
        "def my_log(a):\n",
        "  for i in range(len(a)):\n",
        "    if a[i] <= 0:\n",
        "      a[i] = 'None'\n",
        "    else:\n",
        "      a[i] = math.log(a[i])\n",
        "  return a\n",
        "a = list(map(float, input().split()))\n",
        "print(my_log(a))"
      ],
      "metadata": {
        "colab": {
          "base_uri": "https://localhost:8080/"
        },
        "id": "q9xhdDePFFOF",
        "outputId": "52d2a730-73fa-4a18-8147-a37b514b080f"
      },
      "execution_count": null,
      "outputs": [
        {
          "output_type": "stream",
          "name": "stdout",
          "text": [
            "1 3 2.5 -1 9 0 2.71\n",
            "[0.0, 1.0986122886681098, 0.9162907318741551, 'None', 2.1972245773362196, 'None', 0.9969486348916096]\n"
          ]
        }
      ]
    },
    {
      "cell_type": "markdown",
      "metadata": {
        "id": "jyDgr5CyxQS1"
      },
      "source": [
        "**Задача 11**\n",
        "\n",
        "Напишите функцию `all_sort()`, которая принимает на вход перечень целых чисел через запятую (не список, а просто сколько угодно значений через запятую) и возвращает список этих значений, отсортированный по возрастанию.\n",
        "\n",
        "**Пример:**\n",
        "\n",
        "*Входные данные:*\n",
        "\n",
        "    7, 6, 1, 3, 8, 0, -2\n",
        "\n",
        "*Выходные данные:*\n",
        "\n",
        "    [-2, 0, 1, 3, 6, 7, 8]"
      ]
    },
    {
      "cell_type": "code",
      "source": [
        "def all_sort(s):\n",
        "  return sorted(s.split(', '))\n",
        "s = str(input())\n",
        "print(all_sort(s))"
      ],
      "metadata": {
        "colab": {
          "base_uri": "https://localhost:8080/"
        },
        "id": "oLFKGEJMMLGu",
        "outputId": "878df136-1df1-467b-fcc1-262eadc5ae22"
      },
      "execution_count": null,
      "outputs": [
        {
          "output_type": "stream",
          "name": "stdout",
          "text": [
            "7, 6, 1, 3, 8, 0, -2\n",
            "['-2', '0', '1', '3', '6', '7', '8']\n"
          ]
        }
      ]
    },
    {
      "cell_type": "markdown",
      "metadata": {
        "id": "8XFMwL5SxQS3"
      },
      "source": [
        "**Задача 12**\n",
        "\n",
        "Напишите программу, которая принимает на вход список слов такого вида:\n",
        "\n",
        "    words = [\"Speak \",\"to\", \"me \", \"of\", \"Florence\" ,\"And \", \"of\", \"the\", \"Renaissance\"]\n",
        "\n",
        "а возвращает список\n",
        "\n",
        "    words_clean = [\"speak\", \"to\", \"me\", \"of\", \"florence\", \"and\", \"of\", \"the\", \"renaissance\"]\n",
        "\n",
        "Другими словами, программа убирает пробелы в словах и приводит все слова к нижнему регистру.\n",
        "\n",
        "**Подсказка:** запросите `help()`  по  методам `.strip()` и `.lower()`."
      ]
    },
    {
      "cell_type": "code",
      "source": [
        "words = [\"Speak \",\"to\", \"me \", \"of\", \"Florence\" ,\"And \", \"of\", \"the\", \"Renaissance\"]\n",
        "for i in range(len(words)):\n",
        "  words[i] = words[i].lower().strip()\n",
        "print(words)"
      ],
      "metadata": {
        "colab": {
          "base_uri": "https://localhost:8080/"
        },
        "id": "XkDW0LNzPDuZ",
        "outputId": "c3cf4596-0db0-42d5-bd1f-19a5006ac59c"
      },
      "execution_count": null,
      "outputs": [
        {
          "output_type": "stream",
          "name": "stdout",
          "text": [
            "['speak', 'to', 'me', 'of', 'florence', 'and', 'of', 'the', 'renaissance']\n"
          ]
        }
      ]
    },
    {
      "cell_type": "markdown",
      "metadata": {
        "id": "pANOsyNGBZ6E"
      },
      "source": [
        "###Множества"
      ]
    },
    {
      "cell_type": "markdown",
      "metadata": {
        "id": "Wa5EWCae-LTu"
      },
      "source": [
        "**Задача 13**\n",
        "\n",
        "1. Придумайте 2 предложения. Выведите число слов и уникальных букв, которые присутствуют в каждом из двух предложениях.\n",
        "2. Выведите количестов уникальных букв, которые есть и в 1 и во 2 предложении."
      ]
    },
    {
      "cell_type": "code",
      "source": [
        "s1 = input()\n",
        "s2 = input()\n",
        "un1 = list(set(s1))\n",
        "un2 = list(set(s2))\n",
        "un12 = []\n",
        "for i in range(len(un1)):\n",
        "  for j in range(len(un2)):\n",
        "    if un1[i] == un2[j]:\n",
        "      un12.append(un1[i])\n",
        "print(len(list(set(un1))), len(list(set(un2))))\n",
        "print(len(list(set(un12))))"
      ],
      "metadata": {
        "colab": {
          "base_uri": "https://localhost:8080/"
        },
        "id": "oWmYe1fkQwly",
        "outputId": "152c8025-a056-472e-9860-9a98f3a29a86"
      },
      "execution_count": null,
      "outputs": [
        {
          "output_type": "stream",
          "name": "stdout",
          "text": [
            "abcd defg\n",
            "ijk de\n",
            "8 6\n",
            "3\n"
          ]
        }
      ]
    },
    {
      "cell_type": "markdown",
      "metadata": {
        "id": "pQkPUzF8zCgS"
      },
      "source": [
        "###Повторение"
      ]
    },
    {
      "cell_type": "markdown",
      "metadata": {
        "id": "p9271Yq8xQS1"
      },
      "source": [
        "**Задача 1**\n",
        "\n",
        "Напишите программу, которая запрашивает у пользователя пароль, и далее:\n",
        "\n",
        "* если пароль верный, выводит на экран сообщение \"Login success\".\n",
        "* если пароль неверный, выводит на экран сообщение \"Incorrect password, try again!\" до тех пор, пока пользователь не введет верный пароль."
      ]
    },
    {
      "cell_type": "code",
      "source": [
        "print('Введите пароль: ')\n",
        "s = input()\n",
        "while s != 'верный':\n",
        "  print('Incorrect password, try again!')\n",
        "  s = input()\n",
        "print('Login success')"
      ],
      "metadata": {
        "colab": {
          "base_uri": "https://localhost:8080/"
        },
        "id": "N8gP5adYUf7x",
        "outputId": "2f8643ab-1deb-4c26-8c64-a582a446d67c"
      },
      "execution_count": null,
      "outputs": [
        {
          "output_type": "stream",
          "name": "stdout",
          "text": [
            "Введите пароль: \n",
            "верный\n",
            "Login success\n"
          ]
        }
      ]
    },
    {
      "cell_type": "markdown",
      "metadata": {
        "id": "Z7k1ojDZxQS2"
      },
      "source": [
        "**Задача 2**\n",
        "\n",
        "\n",
        "\n",
        "    numbers = [3, 7, 11, 23, 18, 48, 81]\n",
        "\n",
        "Напишите программу, которая просит пользователя ввести целое число, и если оно окажжется среди numbers, на экран будет выводиться сообщение: \"Есть совпадение\", если нет ‒ \"Совпадений не найдено\"."
      ]
    },
    {
      "cell_type": "code",
      "source": [
        "numbers = [3, 7, 11, 23, 18, 48, 81]\n",
        "print('Введите целое число: ')\n",
        "n = int(input())\n",
        "count = 0\n",
        "for i in range(len(numbers)):\n",
        "  if numbers[i] == n:\n",
        "    count += 1\n",
        "if count == 0:\n",
        "  print('Совпадений не найдено')\n",
        "else:\n",
        "  print('Есть совпадение')"
      ],
      "metadata": {
        "colab": {
          "base_uri": "https://localhost:8080/"
        },
        "id": "e5L0XWgqViTr",
        "outputId": "92238327-995f-42ed-95e5-6d827f9aeef6"
      },
      "execution_count": null,
      "outputs": [
        {
          "output_type": "stream",
          "name": "stdout",
          "text": [
            "Введите целое число: \n",
            "11\n",
            "Есть совпадение\n"
          ]
        }
      ]
    },
    {
      "cell_type": "markdown",
      "metadata": {
        "id": "SAgKFqQfxQS2"
      },
      "source": [
        "**Задача 3**\n",
        "\n",
        "Напишите программу, которая запрашивает у пользователя номер мобильного телефона, введенный через дефис, а возвращает номер, записанный без дефисов и пробелов.\n",
        "\n",
        "*Входные данные:*\n",
        "\n",
        "    8-900-123-45-67\n",
        "\n",
        "*Выходные данные:*\n",
        "\n",
        "    89001234567"
      ]
    },
    {
      "cell_type": "code",
      "source": [
        "print('Введите номер мобильного телефона: ')\n",
        "n = input()\n",
        "print(''.join(n.split('-')))"
      ],
      "metadata": {
        "colab": {
          "base_uri": "https://localhost:8080/"
        },
        "id": "b3cNf9Y3WIHw",
        "outputId": "5d0c8148-2f12-43d9-e7f6-a607820407b0"
      },
      "execution_count": null,
      "outputs": [
        {
          "output_type": "stream",
          "name": "stdout",
          "text": [
            "Введите номер мобильного телефона: \n",
            "8-900-123-45-67\n",
            "89001234567\n"
          ]
        }
      ]
    },
    {
      "cell_type": "markdown",
      "metadata": {
        "id": "jMGZ8536644a"
      },
      "source": [
        "# Задачи со звездочками (Дополнительные)"
      ]
    },
    {
      "cell_type": "markdown",
      "metadata": {
        "id": "qNMR9-847f0H"
      },
      "source": [
        "### *"
      ]
    },
    {
      "cell_type": "markdown",
      "metadata": {
        "id": "6ewiVsYP6VnR"
      },
      "source": [
        "1. Дан список произвольной длины, элементами которого являются списки. Необходиомо вывести список, в списках которого будут только уникальные для каждого из них элементы (которых нет в других списках).\n",
        "\n",
        "Например,\n",
        "\n",
        "[[1, 2, 3], [1, 2, 3], [1, 2, 3], [1, 2, 3, 4]] -> [[], [], [], [4]]\n",
        "\n",
        "[[1, 2], [1, 2, 3, 6, 7], [1, 2, 3], [1, 2, 3, 4]] -> [[], [6, 7], [], [4]]\n",
        "\n",
        "[[1, 2], [1, 2, 3, 6, 7], [1, 2, 3, 6], [1, 2, 3, 4]] -> [[], [7], [], [4]]\n",
        "\n",
        "\n",
        "\n",
        "\n",
        "\n",
        "\n",
        "\n",
        "\n",
        "2. Дана последовательность нулей и единиц произвольной длины.Найти последовательность единиц максимальной длины. Вывести длину последовательности и индекс первого элемента последовтельности. Например, [0, 0, 0, 0, 1, 0, 1, 1, 0, 1, 1, 1] -> len = 3, index = 9\n",
        "\n",
        "\n",
        "\n",
        "\n",
        "3. Дана строка произвольной длины. Посчитайте сколько раз встретился каждый символ. Встречаемость символов считать только для слов имеющих букву 'e'."
      ]
    },
    {
      "cell_type": "markdown",
      "metadata": {
        "id": "dGGSZXY2-dZo"
      },
      "source": [
        "##**"
      ]
    },
    {
      "cell_type": "markdown",
      "metadata": {
        "id": "e9Jxoahd5N9H"
      },
      "source": [
        "1. Дана строка символов, необходимо удалить из строки все палиндромы. Например, 'assagfjdl nvhhvn1' -> 'gfjdl 1'\n",
        "\n",
        "2. Дана строка, содержащая следующие символы {}()[], необходимо проверить верное расположение симовлов в строке и веруть в результате выполнения алгоритма True или False\n",
        "\n",
        "Например:\n",
        "\n",
        "([(){}()]) - True\n",
        "\n",
        "[](){((())[])} - True\n",
        "\n",
        "((([]) - False\n",
        "\n",
        "[]{}}() - False"
      ]
    },
    {
      "cell_type": "code",
      "source": [],
      "metadata": {
        "colab": {
          "base_uri": "https://localhost:8080/"
        },
        "id": "x7F9-Epacnha",
        "outputId": "d13918a9-2ff2-46e2-a0e8-b6dad4559e8a"
      },
      "execution_count": null,
      "outputs": [
        {
          "output_type": "stream",
          "name": "stdout",
          "text": [
            "((([])\n",
            "True\n"
          ]
        }
      ]
    }
  ],
  "metadata": {
    "colab": {
      "collapsed_sections": [
        "hOMAXar6-fO1",
        "pQkPUzF8zCgS"
      ],
      "provenance": []
    },
    "kernelspec": {
      "display_name": "Python 3 (ipykernel)",
      "language": "python",
      "name": "python3"
    },
    "language_info": {
      "codemirror_mode": {
        "name": "ipython",
        "version": 3
      },
      "file_extension": ".py",
      "mimetype": "text/x-python",
      "name": "python",
      "nbconvert_exporter": "python",
      "pygments_lexer": "ipython3",
      "version": "3.10.11"
    }
  },
  "nbformat": 4,
  "nbformat_minor": 0
}